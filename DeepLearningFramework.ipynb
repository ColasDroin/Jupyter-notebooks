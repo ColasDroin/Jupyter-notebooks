{
 "cells": [
  {
   "cell_type": "markdown",
   "metadata": {},
   "source": [
    "# My own deep learning framework"
   ]
  },
  {
   "cell_type": "markdown",
   "metadata": {},
   "source": [
    "*NB : This notebook is initially a post from my [personal blog](http://colasdroin.eu/DataScienceBlog/).*"
   ]
  },
  {
   "cell_type": "markdown",
   "metadata": {},
   "source": [
    "![alt text](https://upload.wikimedia.org/wikipedia/commons/3/30/Multilayer_Neural_Network.png \"Network example\")"
   ]
  },
  {
   "cell_type": "markdown",
   "metadata": {},
   "source": [
    "In the context of a course project during my PhD, I had to code my very own deep learning framework in pure Python. We were supposed to keep things simple and implement different modules (e.g. ReLU, Tanh etc.) linked sequentially, each with its own forward and backward pass. But I decided to spice things up a little and consider the whole network as a computational graph, using the [approach already used in TensorFlow](https://www.tensorflow.org/versions/r1.3/get_started/get_started#the_computational_graph). If you're not familiar with the basics of deep learning, before reading what's coming next, I heavily encourage you to have a look at the amazing [3Blue1Brown video tutorials on deep learning](https://www.youtube.com/watch?v=aircAruvnKk&list=PLZHQObOWTQDNU6R1_67000Dx_ZCJB-3pi)."
   ]
  },
  {
   "cell_type": "markdown",
   "metadata": {},
   "source": [
    "Before anything, let's import some basic packages for computation and plotting, to make our life easier later."
   ]
  },
  {
   "cell_type": "code",
   "execution_count": 1,
   "metadata": {
    "collapsed": true
   },
   "outputs": [],
   "source": [
    "import numpy as np\n",
    "import matplotlib.pyplot as plt\n",
    "plt.style.use('ggplot')"
   ]
  },
  {
   "cell_type": "markdown",
   "metadata": {},
   "source": [
    "## The Node class"
   ]
  },
  {
   "cell_type": "markdown",
   "metadata": {},
   "source": [
    "The first thing we're going to do is to define a `Node`, which can be interpret as a layer of the network. It can be either a layer of parameters, either a given transformation (function like SoftMax or Tanh), either simply the input. Parameters nodes are given a value when instancied, while input and functions do not. The value of the input is given when computing the forward pass, and the value returned by each function in the graph is computed iteratively during the forward pass. "
   ]
  },
  {
   "cell_type": "code",
   "execution_count": 2,
   "metadata": {
    "collapsed": true
   },
   "outputs": [],
   "source": [
    "class Node:\n",
    "    \"\"\"Define a node (input, operation (various types), or parameter) of the\n",
    "       network.\n",
    "    \"\"\"\n",
    "    def __init__(self, value = None, type = None, parents = []):\n",
    "        \"\"\" Constructor:\n",
    "            -value is a ndarray used to assign a value to\n",
    "            the current node.\n",
    "            -type is a string specifying the type of the node: 'input' as input,\n",
    "            'par' as parameter, and 'add'/'dot' as operations.\n",
    "            -parents is a list of nodes corresponding to the parents of the\n",
    "            current node in the graph.\n",
    "        \"\"\"\n",
    "        if type is None:\n",
    "            if value is None:\n",
    "                self.type = 'input'\n",
    "            else:\n",
    "                self.type = 'par'\n",
    "        else:\n",
    "            self.type = type\n",
    "        if type == 'par' and value is None:\n",
    "            raise ValueError('A parameter node must have a value')\n",
    "        if type == 'input' and value is not None:\n",
    "            raise ValueError(\"An input node can't have a value\")\n",
    "        self.value = value\n",
    "        self.parents = parents\n",
    "        self.children = set()\n",
    "        self.dic_op = {'add' : self.compute_add,\n",
    "                        'dot' : self.compute_dot,\n",
    "                        'relu' : self.compute_relu,\n",
    "                        'tanh' : self.compute_tanh}\n",
    "        self.dic_d_op = {'add' : self.compute_d_add,\n",
    "                        'dot' : self.compute_d_dot,\n",
    "                        'relu' : self.compute_d_relu,\n",
    "                        'tanh' : self.compute_d_tanh}\n",
    "        self.grad = 0\n",
    "        self.grad_computed = False\n"
   ]
  },
  {
   "cell_type": "markdown",
   "metadata": {},
   "source": [
    "You can see that each node also come with several other attributes:\n",
    "* `parents` is a list containing pointers toward the parent nodes. \n",
    "* `children` is a set containing pointers toward the children nodes. \n",
    "* `dic_op` is used only for function nodes, in which case it maps the name of the function to the corresponding implementation.\n",
    "* `dic_d_op` is exactly the same thing as `dic_op`, except that it is used for the backward pass, therefore using the gradient of the functions.\n",
    "* `grad` is a float accumulating the gradient during the backward pass.\n",
    "* `grad_computed` is a boolean used to ensure that one doesn't compute twice the gradient of a given node during the backward pass.\n",
    "\n",
    "We can then define all the common functions used in deep learning networks, as well as their gradient. Note that we don't implement any convolution here (it could be possible, but the gradient computation is a bit trickier)."
   ]
  },
  {
   "cell_type": "code",
   "execution_count": 3,
   "metadata": {
    "collapsed": true
   },
   "outputs": [],
   "source": [
    "class Node(Node):\n",
    "    def add(self, node):\n",
    "        \"\"\"Function to create a new node whose value is the addition of the two\n",
    "            parents. Self node must be a parameter, 'node' node can be of any\n",
    "            type.\n",
    "        \"\"\"\n",
    "        if node.type=='par':\n",
    "            raise ValueError(\"Self node must be a parameter\")\n",
    "        child = Node(type = 'add', parents = [self,node])\n",
    "        self.children.add(child)\n",
    "        node.children.add(child)\n",
    "        return child\n",
    "\n",
    "    def compute_add(self):\n",
    "        \"\"\"Function to compute the addition of the values of the two parents.\n",
    "        \"\"\"\n",
    "        return np.add(*[parent.value for parent in self.parents])\n",
    "\n",
    "    def compute_d_add(self, grad):\n",
    "        \"\"\"Function to compute the derivative of the addition of the values of\n",
    "            the two parents.\n",
    "        \"\"\"\n",
    "        return 1*grad\n",
    "\n",
    "    def dot(self, node):\n",
    "        \"\"\"Function to create a new node which is the dot product of the values\n",
    "            of the two parents.Self node must be a parameter, 'node' node can be\n",
    "            of any type.\n",
    "        \"\"\"\n",
    "        if node.type=='par':\n",
    "            raise ValueError(\"Self node must be a parameter\")\n",
    "        child = Node(type = 'dot', parents = [self,node])\n",
    "        self.children.add(child)\n",
    "        node.children.add(child)\n",
    "        return child\n",
    "\n",
    "    def compute_dot(self):\n",
    "        \"\"\"Function to compute the dot product between the parent 1 (w) and\n",
    "            the parent 2 (x).\n",
    "        \"\"\"\n",
    "        return np.dot(self.parents[0].value,self.parents[1].value.T).T\n",
    "\n",
    "    def compute_d_dot(self, grad):\n",
    "        \"\"\"Function to compute the derivative of the dot product between\n",
    "            parent 1 (w) and parent 2 (x).\n",
    "        \"\"\"\n",
    "        return np.dot(self.parents[0].value.T, grad.T ).T\n",
    "\n",
    "    def relu(self):\n",
    "        \"\"\"Function to create a new node which is relu of the parent node value.\n",
    "        \"\"\"\n",
    "        child = Node(type = 'relu', parents = [self])\n",
    "        self.children.add(child)\n",
    "        return child\n",
    "\n",
    "    def compute_relu(self):\n",
    "        \"\"\"Function to compute the value of the current node using relu function\n",
    "            on the parent node.\n",
    "        \"\"\"\n",
    "        if len(self.parents)>1:\n",
    "            raise ValueError('reLu takes only a single parent as input')\n",
    "        return self.parents[0].value * (self.parents[0].value > 0)\n",
    "\n",
    "    def compute_d_relu(self, grad):\n",
    "        \"\"\"Function to compute the gradient of the current node using relu\n",
    "            function on the parent node.\n",
    "        \"\"\"\n",
    "        if len(self.parents)>1:\n",
    "            raise ValueError('reLu takes only a single parent as input')\n",
    "        return (1 * (self.parents[0].value > 0))*grad\n",
    "\n",
    "    def tanh(self):\n",
    "        \"\"\"Function to create a new node which is tanh of the parent node value.\n",
    "        \"\"\"\n",
    "        child = Node(type = 'tanh', parents = [self])\n",
    "        self.children.add(child)\n",
    "        return child\n",
    "\n",
    "    def compute_tanh(self):\n",
    "        \"\"\"Function to compute the value of the current node using tanh function\n",
    "            on the parent node.\n",
    "        \"\"\"\n",
    "        if len(self.parents)>1:\n",
    "            raise ValueError('tanh takes only a single parent as input')\n",
    "        return np.tanh(self.parents[0].value )\n",
    "\n",
    "    def compute_d_tanh(self, grad):\n",
    "        \"\"\"Function to compute the gradient of the current node using tanh\n",
    "            function on the parent node.\n",
    "        \"\"\"\n",
    "        if len(self.parents)>1:\n",
    "            raise ValueError('tanh takes only a single parent as input')\n",
    "        return (1-np.tanh(self.parents[0].value)**2)*grad"
   ]
  },
  {
   "cell_type": "markdown",
   "metadata": {},
   "source": [
    "Now that we have all the functions implemented, we can implement the forward pass. Starting from the end node, the principle is simply to compute recurrently the value of all nodes, by using the value of their parent node(s) as input(s) to the function of the current node."
   ]
  },
  {
   "cell_type": "code",
   "execution_count": 4,
   "metadata": {
    "collapsed": true
   },
   "outputs": [],
   "source": [
    "class Node(Node):\n",
    "    def compute_forward(self):\n",
    "        \"\"\"Compute the values of the complete graph in a forward manner.\n",
    "        \"\"\"\n",
    "        def assert_parents(parents):\n",
    "            for parent in parents:\n",
    "                if parent.value is None:\n",
    "                    return False\n",
    "            return True\n",
    "\n",
    "        def compute_nodes_value(current_node):\n",
    "            for parent in current_node.parents:\n",
    "                compute_nodes_value(parent)\n",
    "            if current_node.type!='par' and current_node.type!='input':\n",
    "                if assert_parents(current_node.parents):\n",
    "                    current_node.value = current_node.dic_op[current_node.type]()\n",
    "                else:\n",
    "                    raise ValueError('A bug occured somewhere in the forward pass')\n",
    "\n",
    "        compute_nodes_value(self)"
   ]
  },
  {
   "cell_type": "markdown",
   "metadata": {},
   "source": [
    "We can then do the same thing for the backward pass, taking advantage of the [chain rule](https://en.wikipedia.org/wiki/Chain_rule). Things are getting a little bit more trickier here, but the principle is simply to start from the gradient of the loss computed on the end node, and to backpropagate iteratively to the first node. In order to be sure I don't compute the gradient twice for a given node, I always check that the `grad_computed` is set to `False` before running any computation.  "
   ]
  },
  {
   "cell_type": "code",
   "execution_count": 5,
   "metadata": {
    "collapsed": true
   },
   "outputs": [],
   "source": [
    "class Node(Node):\n",
    "    def compute_backward(self, d_loss):\n",
    "        \"\"\"Compute the gradient of the complete graph in a backward manner.\n",
    "        \"\"\"\n",
    "        def assess_children(children):\n",
    "            for child in children:\n",
    "                if not child.grad_computed:\n",
    "                    return False\n",
    "            return True\n",
    "\n",
    "        def compute_grad_value(current_node, child = None):\n",
    "            if child is None:\n",
    "                current_node.grad =  self.dic_d_op[current_node.type](d_loss)\n",
    "                current_node.grad_computed = True\n",
    "            else:\n",
    "                if child.grad_computed:\n",
    "                    if current_node.type=='input':\n",
    "                        current_node.grad += child.grad\n",
    "                    elif current_node.type=='par':\n",
    "                        if child.type == 'add':\n",
    "                            current_node.grad += np.sum(child.grad, axis = 0)\n",
    "                        if child.type == 'dot':\n",
    "                            if len(child.children)==1:\n",
    "                                child_children = next(iter(child.children))\n",
    "                                current_node.grad += np.dot(child_children.grad.T, child.parents[1].value)\n",
    "                            else:\n",
    "                                child_grad = np.sum([c.grad for c in child.children], axis = 0)\n",
    "                                current_node.grad += np.dot( child_grad.T, child.parents[1].value)\n",
    "                    else:\n",
    "                        current_node.grad += current_node.dic_d_op[current_node.type](child.grad)\n",
    "                else:\n",
    "                    raise ValueError('A bug occured somewhere in the backward pass')\n",
    "                current_node.grad_computed = assess_children(self.children)\n",
    "\n",
    "            if current_node.grad_computed:\n",
    "                for parent in current_node.parents:\n",
    "                    compute_grad_value(parent, child = current_node)\n",
    "\n",
    "        compute_grad_value(self)"
   ]
  },
  {
   "cell_type": "markdown",
   "metadata": {},
   "source": [
    "We can now create nodes (layers), but we still haven't defined any gradient descent algorithm, nor any loss... This will be done in the `Network` class, that we're going to implement right now.\n"
   ]
  },
  {
   "cell_type": "markdown",
   "metadata": {},
   "source": [
    "## The Network class\n",
    "This class contains no argument but the output node of the network one wants to build."
   ]
  },
  {
   "cell_type": "code",
   "execution_count": 6,
   "metadata": {
    "collapsed": true
   },
   "outputs": [],
   "source": [
    "class Network:\n",
    "    \"\"\"Contains all the nodes (layers) of the network.\n",
    "    \"\"\"\n",
    "    def __init__(self, output_node = Node()):\n",
    "        \"\"\" Constructor:\n",
    "            -output_node must correspond to the last node of the previously\n",
    "             built dynamical graph.\n",
    "        \"\"\"\n",
    "        self.output_node = output_node\n",
    "        self.input_node = self.find_input_node()\n",
    "        self.s_parameter_nodes = set()"
   ]
  },
  {
   "cell_type": "markdown",
   "metadata": {
    "collapsed": true
   },
   "source": [
    "The input node is then found automatically by browsing the graph in an ascending manner. "
   ]
  },
  {
   "cell_type": "code",
   "execution_count": 7,
   "metadata": {
    "collapsed": true
   },
   "outputs": [],
   "source": [
    "class Network(Network):\n",
    "    def find_input_node(self):\n",
    "        \"\"\" Function to find the node corresponding to the first layer of the\n",
    "            dynamical graph using recursion.\n",
    "        \"\"\"\n",
    "        set_input = set()\n",
    "\n",
    "        def look_parent(current_node):\n",
    "            for parent in current_node.parents:\n",
    "                if parent.type=='input':\n",
    "                    set_input.add(parent)\n",
    "                look_parent(parent)\n",
    "\n",
    "        look_parent(self.output_node)\n",
    "        if len(set_input)>1:\n",
    "            raise ValueError(\"There can only be one input to this graph.\")\n",
    "        else:\n",
    "            return set_input.pop()"
   ]
  },
  {
   "cell_type": "markdown",
   "metadata": {},
   "source": [
    "The function to compute the foward pass is then nothing more than a wrapper of the same function in the `Node` class."
   ]
  },
  {
   "cell_type": "code",
   "execution_count": 8,
   "metadata": {
    "collapsed": true
   },
   "outputs": [],
   "source": [
    "class Network(Network):\n",
    "    def do_forward(self, input):\n",
    "        \"\"\" Do the forward pass:\n",
    "            -input must be a FloatTensor or DoubleTensor. It is with this tensor\n",
    "            that we feed the network.\n",
    "        \"\"\"\n",
    "        self.input_node.value = input\n",
    "        self.output_node.compute_forward()\n",
    "        return self.output_node.value"
   ]
  },
  {
   "cell_type": "markdown",
   "metadata": {},
   "source": [
    "In preparation for the computation of the backward pass, we can now define the loss and its derivative. For now, we stick to a simple Mean-Squared error loss, but it wouldn't be complicated to do the same thing with, for instance, a cross-entropy loss. If you're interested, have a look at this [really good article](http://rohanvarma.me/Loss-Functions/) about the different types of losses and when to use them."
   ]
  },
  {
   "cell_type": "code",
   "execution_count": 9,
   "metadata": {
    "collapsed": true
   },
   "outputs": [],
   "source": [
    "class Network(Network):    \n",
    "    def MSE_loss(self, target):\n",
    "        \"\"\" Compute the Mean Squared Error (MSE) loss of the network.\n",
    "            -target must be a FloatTensor or DoubleTensor of the same size as\n",
    "            the ouput layer.\n",
    "        \"\"\"\n",
    "        if self.output_node.value is not None:\n",
    "            return 1/len(self.output_node.value)\\\n",
    "                    *np.sum((self.output_node.value-target)**2)\n",
    "        else:\n",
    "            raise ValueError(\"The loss can only be computed after having done \\\n",
    "                                the forward pass.\")\n",
    "\n",
    "    def d_MSE_loss(self, target):\n",
    "        \"\"\" Compute the derivative of the Mean Squared Error (MSE) loss of the\n",
    "            network.\n",
    "            -target must be a FloatTensor or DoubleTensor of the same size as\n",
    "            the ouput layer.\n",
    "        \"\"\"\n",
    "        if self.output_node.value is not None:\n",
    "            return 2*(self.output_node.value-target)\n",
    "        else:\n",
    "            raise ValueError(\"The loss derivative can only be computed after \\\n",
    "                                having done the forward pass\")"
   ]
  },
  {
   "cell_type": "markdown",
   "metadata": {},
   "source": [
    "We can now implement the wrapper for the backward pass, which takes as input both the target vector and the type of the loss."
   ]
  },
  {
   "cell_type": "code",
   "execution_count": 10,
   "metadata": {
    "collapsed": true
   },
   "outputs": [],
   "source": [
    "class Network(Network):    \n",
    "    def do_backward(self, target, type_loss):\n",
    "        \"\"\" Do the backward pass:\n",
    "            -target must be a FloatTensor or DoubleTensor of the same size as\n",
    "            the ouput layer.\n",
    "            -type_loss sets the type of loss function implemented. Only Mean\n",
    "            Squared Error (MSE) is available for now.\n",
    "        \"\"\"\n",
    "        if type_loss == \"MSE\":\n",
    "            d_loss = self.d_MSE_loss(target)\n",
    "            grad = self.output_node.compute_backward(d_loss)\n",
    "        else:\n",
    "            raise ValueError(\"Only MSE loss is implemented for now.\")"
   ]
  },
  {
   "cell_type": "markdown",
   "metadata": {},
   "source": [
    "And as an optimization algorithm, we're going to implement the vanilla stochastic SGD. Since we first need to know which nodes are correspond to layers of parameters before optimizing them, we're also going to make a quick search through the graph before running the SGD itself. Also, we need to ensure every boolean flag telling us if the gradient has already been computed is set to `False` *before* doing the SGD, so we're going to define a function for that. In the end, we get:"
   ]
  },
  {
   "cell_type": "code",
   "execution_count": 11,
   "metadata": {
    "collapsed": true
   },
   "outputs": [],
   "source": [
    "class Network(Network):    \n",
    "    def find_parameter_nodes(self):\n",
    "        \"\"\" Function to find and add in a set the parameters node of the graph.\n",
    "        \"\"\"\n",
    "        def find_parameter(current_node):\n",
    "            for parent in current_node.parents:\n",
    "                if parent.type=='par':\n",
    "                    self.s_parameter_nodes.add(parent)\n",
    "                else:\n",
    "                    find_parameter(parent)\n",
    "        find_parameter(self.output_node)\n",
    "        \n",
    "    def reset_flags(self):\n",
    "        \"\"\" Function to reset the gradients and the corresponding flags of all\n",
    "            the nodes of the network.\n",
    "        \"\"\"\n",
    "        def reset_flag(current_node):\n",
    "            for parent in current_node.parents:\n",
    "                parent.grad_computed = False\n",
    "                parent.grad =0.\n",
    "                reset_flag(parent)\n",
    "\n",
    "        self.output_node.grad_computed = False\n",
    "        self.output_node.grad = 0.\n",
    "        reset_flag(self.output_node)\n",
    "        \n",
    "    def do_SGD(self, input, target, type_loss = \"MSE\", n_iter = 1000, eta = 0.1,\n",
    "                size_batch = 50, verbose = False, plot = False):\n",
    "        \"\"\" Do the Stochastic Gradient Descent (SGD) to optimize the parameters\n",
    "            of the graph:\n",
    "            -input must be a FloatTensor or DoubleTensor. It is with this tensor\n",
    "            that we feed the network.\n",
    "            -target must be a FloatTensor or DoubleTensor of the same size as\n",
    "            the ouput layer.\n",
    "            -type_loss sets the type of loss function implemented. Only Mean\n",
    "            Squared Error (MSE) is available for nowself.\n",
    "            -n_iter is an integer specifying the number of SGD iterations.\n",
    "            -eta is a float specifying the the size of the linear expansion used\n",
    "            to compute the gradient.\n",
    "            -verbose is a bool specifying is the MSE loss must be printed at\n",
    "            each iteration.\n",
    "        \"\"\"\n",
    "        self.find_parameter_nodes()\n",
    "        l_error = []\n",
    "        n_subiter = int(len(input)/size_batch)\n",
    "        batched_input = [input[k2*size_batch:(k2+1)*size_batch,:] for k2 in range(n_subiter)]\n",
    "        batched_target = [target[k2*size_batch:(k2+1)*size_batch,:] for k2 in range(n_subiter)]\n",
    "        tot_iter = 0\n",
    "        for k in range(n_iter):\n",
    "            for sample, target_sample in zip(batched_input, batched_target):\n",
    "                self.do_forward(sample)\n",
    "                self.do_backward(target_sample, type_loss)\n",
    "                for node in self.s_parameter_nodes:\n",
    "                    node.value -= eta * node.grad\n",
    "                self.reset_flags()\n",
    "                l_error.append(float(self.MSE_loss(target_sample)))\n",
    "                tot_iter += 1\n",
    "            if verbose:\n",
    "                print('it ' + str(k)+': '+ str(float(self.MSE_loss(target_sample))))\n",
    "        if plot:\n",
    "            plt.figure(figsize=(8,8))\n",
    "            plt.plot(np.linspace(0,n_iter,tot_iter, endpoint = True), l_error)\n",
    "            plt.xscale('log', basex=10)\n",
    "            plt.xlabel(\"Iteration\")\n",
    "            plt.ylabel('MSE error')\n",
    "            plt.title('Evolution of the error (train)')\n",
    "            plt.show()\n",
    "            plt.close()"
   ]
  },
  {
   "cell_type": "markdown",
   "metadata": {},
   "source": [
    "And that's it, our Network class is now over! Let's see how well it works in practice."
   ]
  },
  {
   "cell_type": "markdown",
   "metadata": {},
   "source": [
    "## Running the network"
   ]
  },
  {
   "cell_type": "code",
   "execution_count": 12,
   "metadata": {
    "collapsed": false
   },
   "outputs": [
    {
     "name": "stdout",
     "output_type": "stream",
     "text": [
      "Training started... It should take less than a minute.\n",
      "Training done\n",
      "MSE on train set:  0.010409858227806237\n",
      "MSE on test set:  0.020417295512226073\n"
     ]
    },
    {
     "data": {
      "image/png": "[encoded data removed]",
      "text/plain": [
       "<Figure size 576x576 with 1 Axes>"
      ]
     },
     "metadata": {},
     "output_type": "display_data"
    }
   ],
   "source": [
    "\"\"\" Create train and test sets \"\"\"\n",
    "train_set = np.random.rand(1000,2)\n",
    "train_target = np.array([(0,1) if ( (x1-0.5)**2+(x2-0.5)**2)**0.5>1/(2*np.pi)**0.5 \\\n",
    "                        else (1,0) for (x1,x2) in train_set])\n",
    "\n",
    "test_set = np.random.rand(1000,2)\n",
    "test_target = np.array([(0,1) if ( (x1-0.5)**2+(x2-0.5)**2)**0.5>1/(2*np.pi)**0.5 \\\n",
    "                        else (1,0) for (x1,x2) in test_set])\n",
    "\n",
    "nb_classes = train_set.shape[1]\n",
    "nb_train_samples = train_set.shape[0]\n",
    "\n",
    "\"\"\" Set meta-parameters \"\"\"\n",
    "nb_hidden = 25\n",
    "eta = 1e-1 / nb_train_samples\n",
    "epsilon = 1e-1\n",
    "\n",
    "\"\"\" Create tensors of parameters for the network \"\"\"\n",
    "w1_tensor = np.random.randn(nb_hidden, train_set.shape[1])*epsilon\n",
    "b1_tensor = np.random.randn(nb_hidden)*epsilon\n",
    "\n",
    "w2_tensor = np.random.randn(nb_hidden, nb_hidden)*epsilon\n",
    "b2_tensor = np.random.randn(nb_hidden)*epsilon\n",
    "\n",
    "w3_tensor = np.random.randn(nb_classes, nb_hidden)*epsilon\n",
    "b3_tensor = np.random.randn(nb_classes)*epsilon\n",
    "\n",
    "\"\"\" Create computation graph (network) \"\"\"\n",
    "x0 = Node()\n",
    "s1 = Node(b1_tensor).add( Node(w1_tensor).dot(x0) )\n",
    "x1 = s1.relu()\n",
    "s2 = Node(b2_tensor).add(Node(w2_tensor).dot(x1))\n",
    "x2 = s2.relu()\n",
    "s3 = Node(b3_tensor).add(Node(w3_tensor).dot(x2))\n",
    "x3 = s3.tanh()\n",
    "\n",
    "N = Network(x3)\n",
    "\n",
    "\"\"\" Train the network \"\"\"\n",
    "print('Training started... It should take less than a minute.')\n",
    "N.do_SGD(train_set, train_target, type_loss = \"MSE\", n_iter = 10000, eta = eta,\n",
    "        size_batch = 100, verbose = False, plot = False)\n",
    "print('Training done')\n",
    "\n",
    "\"\"\" Print final train error \"\"\"\n",
    "N.do_forward(train_set)\n",
    "print('MSE on train set: ', float(N.MSE_loss(train_target)))\n",
    "\n",
    "\"\"\" Print test error \"\"\"\n",
    "N.do_forward(test_set)\n",
    "print('MSE on test set: ', float(N.MSE_loss(test_target)))\n",
    "\n",
    "\"\"\" Plot the result \"\"\"\n",
    "l_color = ['r' if np.argmax(r)==1 else 'g' for r,t in zip(N.output_node.value, test_target)]\n",
    "circle = plt.Circle((0.5, 0.5), 1/(2*np.pi)**0.5, color='b', alpha = 0.1)\n",
    "fig, ax = plt.subplots(figsize=(8,8))\n",
    "ax.add_artist(circle)\n",
    "plt.scatter(np.array(test_set[:,0]), np.array(test_set[:,1]), c = l_color, s = 5)\n",
    "plt.xlim([0,1])\n",
    "plt.ylim([0,1])\n",
    "plt.xlabel('x')\n",
    "plt.ylabel('y')\n",
    "plt.title('Classification result')\n",
    "plt.show()\n",
    "plt.close()"
   ]
  },
  {
   "cell_type": "markdown",
   "metadata": {},
   "source": [
    "That was a little bit of work, but I believe that's the only way to really understand what actually happens in the network. Plus the result is really cool!"
   ]
  }
 ],
 "metadata": {
  "anaconda-cloud": {},
  "kernelspec": {
   "display_name": "Python [default]",
   "language": "python",
   "name": "python3"
  },
  "language_info": {
   "codemirror_mode": {
    "name": "ipython",
    "version": 3
   },
   "file_extension": ".py",
   "mimetype": "text/x-python",
   "name": "python",
   "nbconvert_exporter": "python",
   "pygments_lexer": "ipython3",
   "version": "3.5.2"
  }
 },
 "nbformat": 4,
 "nbformat_minor": 2
}
